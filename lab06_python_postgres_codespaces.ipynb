{
  "cells": [
    {
      "cell_type": "markdown",
      "metadata": {},
      "source": [
        "# Lab 06 \u2014 DashDash Data Quality (Codespaces Ready)\n",
        "\n",
        "The lab is now packaged as a reusable Python pipeline. Update the SQL models inside\n",
        "`warehouse/` (staging, marts, KPIs, monitoring, tests) and re-run the cell below to\n",
        "seed the CSV data, rebuild the views, execute data-quality checks, and generate the\n",
        "stakeholder deliverable."
      ]
    },
    {
      "cell_type": "code",
      "metadata": {},
      "execution_count": null,
      "outputs": [],
      "source": [
        "from src.pipeline import run_pipeline\n",
        "summary = run_pipeline()\n",
        "summary"
      ]
    },
    {
      "cell_type": "markdown",
      "metadata": {},
      "source": [
        "## Next steps\n",
        "- Inspect `outputs/RUN_LOG.txt` for test details.\n",
        "- Review exported CSVs under `outputs/`.\n",
        "- Edit SQL in `warehouse/` and re-run as needed."
      ]
    }
  ],
  "metadata": {
    "kernelspec": {
      "display_name": "Python 3",
      "language": "python",
      "name": "python3"
    },
    "language_info": {
      "name": "python",
      "version": "3.11"
    }
  },
  "nbformat": 4,
  "nbformat_minor": 5
}