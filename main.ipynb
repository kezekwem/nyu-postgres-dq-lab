{
 "cells": [
  {
   "cell_type": "markdown",
   "metadata": {},
   "source": [
    "# DashDash Data Warehouse Lab Runner\n",
    "\n",
    "This lightweight notebook wraps the new Python pipeline. Edit the SQL files under `warehouse/`\n",
    "and re-run the cell below to rebuild staging, marts, KPIs, monitoring views, and the stakeholder\n",
    "deliverable."
   ]
  },
  {
   "cell_type": "code",
   "metadata": {},
   "execution_count": null,
   "outputs": [],
   "source": [
    "from src.config import Settings, mask_url\n",
    "from src.pipeline import run_pipeline\n",
    "\n",
    "settings = Settings.from_env()\n",
    "try:\n",
    "    choice = input('Run pipeline against PostgreSQL? [Y/n]: ').strip().lower()\n",
    "except EOFError:\n",
    "    choice = ''\n",
    "if choice in {'n', 'no'}:\n",
    "    settings = settings.for_sqlite()\n",
    "    print('Using SQLite backend at', settings.database_url)\n",
    "else:\n",
    "    print('Using PostgreSQL backend at', mask_url(settings.database_url))\n",
    "\n",
    "summary = run_pipeline(settings=settings)\n",
    "summary\n"
   ]
  }
 ],
 "metadata": {
  "kernelspec": {
   "display_name": "Python 3",
   "language": "python",
   "name": "python3"
  },
  "language_info": {
   "name": "python",
   "version": "3.11"
  }
 },
 "nbformat": 4,
 "nbformat_minor": 5
}