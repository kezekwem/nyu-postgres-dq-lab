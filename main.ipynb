{
  "cells": [
    {
      "cell_type": "markdown",
      "metadata": {},
      "source": [
        "# DashDash Data Warehouse Lab Runner\n",
        "\n",
        "This lightweight notebook wraps the new Python pipeline. Edit the SQL files under `warehouse/`\n",
        "and re-run the cell below to rebuild staging, marts, KPIs, monitoring views, and the stakeholder\n",
        "deliverable."
      ]
    },
    {
      "cell_type": "code",
      "metadata": {},
      "execution_count": null,
      "outputs": [],
      "source": [
        "from src.pipeline import run_pipeline\n",
        "summary = run_pipeline()\n",
        "summary"
      ]
    }
  ],
  "metadata": {
    "kernelspec": {
      "display_name": "Python 3",
      "language": "python",
      "name": "python3"
    },
    "language_info": {
      "name": "python",
      "version": "3.11"
    }
  },
  "nbformat": 4,
  "nbformat_minor": 5
}